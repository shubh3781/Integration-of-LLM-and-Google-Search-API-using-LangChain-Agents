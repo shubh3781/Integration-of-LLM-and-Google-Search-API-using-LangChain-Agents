{
 "cells": [
  {
   "cell_type": "markdown",
   "id": "70fb15ec-fb47-4207-9270-34766189d7f7",
   "metadata": {},
   "source": [
    "# Credit Card Fraud Detection\n",
    "\n",
    "## **Introduction**\n",
    "\n",
    "In this project, we aim to develop models to detect fraudulent credit card transactions using data from European cardholders. Credit card fraud detection is crucial for protecting customers and minimizing financial loss. The dataset contains highly imbalanced data, where fraudulent transactions make up only 0.172% of the total. We address this class imbalance using resampling techniques and apply multiple machine learning models to achieve optimal fraud detection.\n",
    "\n",
    "## **Problem Statement**\n",
    "\n",
    "The goal of this project is to detect fraudulent credit card transactions. Given the high class imbalance in the dataset, it is important to focus on optimizing performance for the minority class (fraud). We will use different classifiers, including XGBoost, Decision Tree, and Random Forest, and assess their performance using appropriate metrics like precision, recall, and F1-score, particularly for the fraud class.\n",
    "\n",
    "**Table of Contents**\n",
    "\n",
    "1. [Importing Libraries](#importing-libraries)\n",
    "2. [Loading the Dataset](#loading-dataset)\n",
    "3. [Data Exploration](#data-exploration)\n",
    "4. [Data Preprocessing](#data-preprocessing)\n",
    "5. [Data Splitting](#data-splitting)\n",
    "6. [Resampling with SMOTETomek](#resampling-smotetomek)\n",
    "7. [Model Training and Hyperparameter Tuning](#model-training)\n",
    "    - [XGBoost Classifier](#xgboost-classifier)\n",
    "    - [Decision Tree Classifier](#decision-tree-classifier)\n",
    "    - [Random Forest Classifier](#random-forest-classifier)\n",
    "8. [Model Evaluation](#model-evaluation)\n",
    "    - [XGBoost Classifier Evaluation](#xgboost-evaluation)\n",
    "    - [Decision Tree Classifier Evaluation](#decision-tree-evaluation)\n",
    "    - [Random Forest Classifier Evaluation](#random-forest-evaluation)\n",
    "9. [Feature Importance Visualization](#feature-importance)\n",
    "10. [Conclusion](#conclusion)"
   ]
  },
  {
   "cell_type": "markdown",
   "id": "d08a442d-0ee8-450d-b67d-4a0c1402fd8e",
   "metadata": {},
   "source": [
    "<a name=\"importing-libraries\"></a>\n",
    "## 1. Importing Libraries\n",
    "\n",
    "Import all the necessary libraries required for data manipulation, visualization, model training, and evaluation."
   ]
  },
  {
   "cell_type": "code",
   "execution_count": 6,
   "id": "4663b2fb-3462-484e-8bda-7fff67f21398",
   "metadata": {},
   "outputs": [],
   "source": [
    "import pandas as pd\n",
    "import numpy as np\n",
    "import matplotlib.pyplot as plt\n",
    "import seaborn as sns\n",
    "from sklearn.model_selection import StratifiedKFold\n",
    "from sklearn.model_selection import train_test_split, GridSearchCV\n",
    "from imblearn.combine import SMOTETomek\n",
    "from sklearn.tree import DecisionTreeClassifier\n",
    "from xgboost import XGBClassifier\n",
    "from sklearn.ensemble import GradientBoostingClassifier,RandomForestClassifier\n",
    "from sklearn.linear_model import LogisticRegression\n",
    "from sklearn.metrics import classification_report, confusion_matrix, accuracy_score"
   ]
  },
  {
   "cell_type": "markdown",
   "id": "da362e7d-1e0c-40d4-adbd-0be59b38d068",
   "metadata": {},
   "source": [
    "<a name=\"loading-dataset\"></a>\n",
    "## 2. Loading the Dataset\n",
    "\n",
    "This dataset contains credit card transactions from September 2013 made by European cardholders. The dataset features 31 columns, with features `V1` to `V28` being the principal components of a PCA transformation. The remaining columns are `Time`, `Amount`, and `Class`. The `Class` column is the target variable, where 1 indicates fraud, and 0 indicates a legitimate transaction.\n",
    "\n",
    "The dataset is highly imbalanced, with only 0.172% of the transactions being fraudulent.\n",
    "\n",
    "Load the credit card transaction dataset and inspect the first few rows."
   ]
  },
  {
   "cell_type": "code",
   "execution_count": 7,
   "id": "df70db1c-1f70-42fe-b92e-79d9eaae73aa",
   "metadata": {},
   "outputs": [
    {
     "name": "stdout",
     "output_type": "stream",
     "text": [
      "   Time        V1        V2        V3        V4        V5        V6        V7  \\\n",
      "0   0.0 -1.359807 -0.072781  2.536347  1.378155 -0.338321  0.462388  0.239599   \n",
      "1   0.0  1.191857  0.266151  0.166480  0.448154  0.060018 -0.082361 -0.078803   \n",
      "2   1.0 -1.358354 -1.340163  1.773209  0.379780 -0.503198  1.800499  0.791461   \n",
      "3   1.0 -0.966272 -0.185226  1.792993 -0.863291 -0.010309  1.247203  0.237609   \n",
      "4   2.0 -1.158233  0.877737  1.548718  0.403034 -0.407193  0.095921  0.592941   \n",
      "\n",
      "         V8        V9  ...       V21       V22       V23       V24       V25  \\\n",
      "0  0.098698  0.363787  ... -0.018307  0.277838 -0.110474  0.066928  0.128539   \n",
      "1  0.085102 -0.255425  ... -0.225775 -0.638672  0.101288 -0.339846  0.167170   \n",
      "2  0.247676 -1.514654  ...  0.247998  0.771679  0.909412 -0.689281 -0.327642   \n",
      "3  0.377436 -1.387024  ... -0.108300  0.005274 -0.190321 -1.175575  0.647376   \n",
      "4 -0.270533  0.817739  ... -0.009431  0.798278 -0.137458  0.141267 -0.206010   \n",
      "\n",
      "        V26       V27       V28  Amount  Class  \n",
      "0 -0.189115  0.133558 -0.021053  149.62      0  \n",
      "1  0.125895 -0.008983  0.014724    2.69      0  \n",
      "2 -0.139097 -0.055353 -0.059752  378.66      0  \n",
      "3 -0.221929  0.062723  0.061458  123.50      0  \n",
      "4  0.502292  0.219422  0.215153   69.99      0  \n",
      "\n",
      "[5 rows x 31 columns]\n"
     ]
    }
   ],
   "source": [
    "# Load the dataset\n",
    "data = pd.read_csv(\"creditcard.csv\")\n",
    "\n",
    "# Display the first few rows\n",
    "print(data.head())"
   ]
  },
  {
   "cell_type": "markdown",
   "id": "3c9739b4-a544-40ee-9e2d-cd453597fceb",
   "metadata": {},
   "source": [
    "<a name=\"data-exploration\"></a>\n",
    "## 3. Data Exploration\n",
    "\n",
    "### Checking for Missing Values\n",
    "\n",
    "Verify if there are any missing values in the dataset."
   ]
  },
  {
   "cell_type": "code",
   "execution_count": 8,
   "id": "167aa966-fcf0-44f6-b329-64d083376ff7",
   "metadata": {},
   "outputs": [
    {
     "name": "stdout",
     "output_type": "stream",
     "text": [
      "Time      0\n",
      "V1        0\n",
      "V2        0\n",
      "V3        0\n",
      "V4        0\n",
      "V5        0\n",
      "V6        0\n",
      "V7        0\n",
      "V8        0\n",
      "V9        0\n",
      "V10       0\n",
      "V11       0\n",
      "V12       0\n",
      "V13       0\n",
      "V14       0\n",
      "V15       0\n",
      "V16       0\n",
      "V17       0\n",
      "V18       0\n",
      "V19       0\n",
      "V20       0\n",
      "V21       0\n",
      "V22       0\n",
      "V23       0\n",
      "V24       0\n",
      "V25       0\n",
      "V26       0\n",
      "V27       0\n",
      "V28       0\n",
      "Amount    0\n",
      "Class     0\n",
      "dtype: int64\n"
     ]
    }
   ],
   "source": [
    "# checking null data\n",
    "print(data.isnull().sum())"
   ]
  },
  {
   "cell_type": "markdown",
   "id": "bd8579e7-f46d-468d-91bb-072636cad840",
   "metadata": {},
   "source": [
    "### Checking for Duplicate Rows\n",
    "\n",
    "Identify and remove any duplicate entries to ensure data quality."
   ]
  },
  {
   "cell_type": "code",
   "execution_count": 9,
   "id": "eef242b7-4fc3-42a4-a59f-a06f7ecd209d",
   "metadata": {},
   "outputs": [
    {
     "name": "stdout",
     "output_type": "stream",
     "text": [
      "1081\n"
     ]
    }
   ],
   "source": [
    "# Checking for duplicate rows in the dataset\n",
    "duplicates=data.duplicated().sum()\n",
    "print(duplicates)"
   ]
  },
  {
   "cell_type": "code",
   "execution_count": 10,
   "id": "a6325e14-5ffc-4ea9-a15a-075da4afd79e",
   "metadata": {},
   "outputs": [
    {
     "name": "stdout",
     "output_type": "stream",
     "text": [
      "Removed 1081 duplicate rows.\n"
     ]
    }
   ],
   "source": [
    "if duplicates > 0:\n",
    "    data = data.drop_duplicates()\n",
    "    print(f\"Removed {duplicates} duplicate rows.\")"
   ]
  },
  {
   "cell_type": "markdown",
   "id": "9d8ad152-5634-4197-b181-6fb17d01bf47",
   "metadata": {},
   "source": [
    "### Analyzing Class Distribution\n",
    "\n",
    "Examine the distribution of legitimate and fraudulent transactions to understand the class imbalance.\n",
    "\n"
   ]
  },
  {
   "cell_type": "code",
   "execution_count": 11,
   "id": "70558bd0-5fe9-46fb-860f-1e72ef0205b2",
   "metadata": {},
   "outputs": [
    {
     "name": "stdout",
     "output_type": "stream",
     "text": [
      "Class\n",
      "0    283253\n",
      "1       473\n",
      "Name: count, dtype: int64\n"
     ]
    }
   ],
   "source": [
    "# Checking distribution of legit and fraud data \n",
    "distribution=(data['Class'].value_counts())\n",
    "print(distribution)"
   ]
  },
  {
   "cell_type": "markdown",
   "id": "696f11e6-5e92-41bf-80eb-7933fc70b5b3",
   "metadata": {},
   "source": [
    "### Analyzing Class Distribution"
   ]
  },
  {
   "cell_type": "code",
   "execution_count": 12,
   "id": "28e0a20c-6c7b-4cf5-ab0a-9a1710d72d5d",
   "metadata": {},
   "outputs": [
    {
     "data": {
      "image/png": "[encoded data removed]",
      "text/plain": [
       "<Figure size 640x480 with 1 Axes>"
      ]
     },
     "metadata": {},
     "output_type": "display_data"
    }
   ],
   "source": [
    "# Plotting the class distribution\n",
    "sns.countplot(x='Class', data=data)\n",
    "plt.title('Class Distribution of Fraud vs Real Transactions')\n",
    "plt.xlabel('Class (0 = Real, 1 = Fraud)')\n",
    "plt.ylabel('Count')\n",
    "plt.show()"
   ]
  },
  {
   "cell_type": "markdown",
   "id": "113b1ade-128b-482d-b52e-7ea8b08b0079",
   "metadata": {},
   "source": [
    "<a name=\"data-preprocessing\"></a>\n",
    "## 4. Data Preprocessing\n",
    "\n",
    "Separate the dataset into features and target variable.\n"
   ]
  },
  {
   "cell_type": "code",
   "execution_count": 13,
   "id": "64125045-15f7-4a74-9b19-5782047efacc",
   "metadata": {},
   "outputs": [],
   "source": [
    "# spliting into features and target \n",
    "features = data.drop(columns=['Class'])\n",
    "target = data['Class']"
   ]
  },
  {
   "cell_type": "markdown",
   "id": "6f84812c-b6e7-4189-944e-71853ea4c2e6",
   "metadata": {},
   "source": [
    "<a name=\"data-splitting\"></a>\n",
    "## 5. Data Splitting\n",
    "\n",
    "Use Stratified K-Fold cross-validation to maintain the class distribution in each fold."
   ]
  },
  {
   "cell_type": "code",
   "execution_count": 14,
   "id": "d3037c1c-ae93-4c3e-b2a3-5cb56dc99423",
   "metadata": {},
   "outputs": [],
   "source": [
    "# Define stratified k-fold cross-validator\n",
    "skf = StratifiedKFold(n_splits = 5)\n",
    "for train_index,test_index in skf.split(features,target):\n",
    "    x_train, x_test = features.iloc[train_index],features.iloc[test_index]\n",
    "    y_train, y_test = target.iloc[train_index],target.iloc[test_index]"
   ]
  },
  {
   "cell_type": "markdown",
   "id": "f1cf8e4f-51da-4b60-96c8-5ca098dbbfa2",
   "metadata": {},
   "source": [
    "\n",
    "<a name=\"resampling-smotetomek\"></a>\n",
    "## 6. Resampling with SMOTETomek\n",
    "\n",
    "Apply SMOTETomek to balance the training data by oversampling the minority class and undersampling the majority class.\n",
    "\n"
   ]
  },
  {
   "cell_type": "code",
   "execution_count": 15,
   "id": "aa72386b-6152-4fa8-abfa-41d7360a3e63",
   "metadata": {},
   "outputs": [],
   "source": [
    "# Apply SMOTETomek only on the training data\n",
    "smote_tomk = SMOTETomek(random_state=42)\n",
    "x_resampled, y_resampled = smote_tomk.fit_resample(x_train, y_train)"
   ]
  },
  {
   "cell_type": "markdown",
   "id": "7d3ec794-714b-4a48-ba98-6522abc3ebdc",
   "metadata": {},
   "source": [
    "<a name=\"model-training\"></a>\n",
    "## 7. Model Training and Hyperparameter Tuning\n",
    "\n",
    "We will train three different classifiers and perform hyperparameter tuning to find the best model.\n",
    "\n",
    "<a name=\"xgboost-classifier\"></a>\n",
    "### 7.1 XGBoost Classifier\n"
   ]
  },
  {
   "cell_type": "code",
   "execution_count": 16,
   "id": "337667e0-b06a-4abf-97cc-b1a63c40152e",
   "metadata": {},
   "outputs": [
    {
     "name": "stdout",
     "output_type": "stream",
     "text": [
      "Fitting 3 folds for each of 8 candidates, totalling 24 fits\n",
      "Best parameters for XGBoost Classifier:\n",
      "{'learning_rate': 0.01, 'max_depth': 3, 'n_estimators': 200}\n"
     ]
    }
   ],
   "source": [
    "# XGBoost Classifier Hyperparameter Tuning\n",
    "xgb_param_grid = {'n_estimators' :[100,200],'learning_rate':[0.01,0.1],'max_depth':[3,5]}\n",
    "xgb_grid_search = GridSearchCV(XGBClassifier(random_state=42,scale_pos_weight=(len(y_resampled) - sum(y_resampled)) / sum(y_resampled)), xgb_param_grid, cv=3, n_jobs=-1, verbose=2)\n",
    "xgb_grid_search.fit(x_resampled, y_resampled)\n",
    "\n",
    "xgb_best_model = xgb_grid_search.best_estimator_\n",
    "print(\"Best parameters for XGBoost Classifier:\")\n",
    "print(xgb_grid_search.best_params_)"
   ]
  },
  {
   "cell_type": "markdown",
   "id": "0ee6eb42-2a87-4087-a233-991f23031be3",
   "metadata": {},
   "source": [
    "<a name=\"decision-tree-classifier\"></a>\n",
    "### 7.2 Decision Tree Classifier\n"
   ]
  },
  {
   "cell_type": "code",
   "execution_count": 17,
   "id": "91480731-c2b7-4add-81ff-d3da63c62ba1",
   "metadata": {},
   "outputs": [
    {
     "name": "stdout",
     "output_type": "stream",
     "text": [
      "Fitting 3 folds for each of 4 candidates, totalling 12 fits\n",
      "Best parameters for Decision Tree Classifier:\n",
      "{'max_depth': None, 'min_samples_split': 2}\n"
     ]
    }
   ],
   "source": [
    "# Decision tree Classifier Hyperparameter Tuning\n",
    "dt_param_grid = {'max_depth': [None, 10],'min_samples_split': [2, 5]}\n",
    "dt_grid_search = GridSearchCV(DecisionTreeClassifier(random_state=42,), dt_param_grid, cv=3, n_jobs=-1, verbose=2)\n",
    "dt_grid_search.fit(x_resampled, y_resampled)\n",
    "\n",
    "dt_best_model = dt_grid_search.best_estimator_\n",
    "print(\"Best parameters for Decision Tree Classifier:\")\n",
    "print(dt_grid_search.best_params_)"
   ]
  },
  {
   "cell_type": "markdown",
   "id": "e19ffedc-dcbf-498d-bd93-916b517f4657",
   "metadata": {},
   "source": [
    "<a name=\"random-forest-classifier\"></a>\n",
    "### 7.3 Random Forest Classifier"
   ]
  },
  {
   "cell_type": "code",
   "execution_count": 18,
   "id": "3c737aaf-a335-4ee0-a437-790ec51c0b34",
   "metadata": {},
   "outputs": [
    {
     "name": "stdout",
     "output_type": "stream",
     "text": [
      "Fitting 3 folds for each of 8 candidates, totalling 24 fits\n",
      "Best parameters for Random Forest Classifier:\n",
      "{'max_depth': 10, 'min_samples_split': 5, 'n_estimators': 100}\n"
     ]
    }
   ],
   "source": [
    "# Random Forest Classifier Hyperparameter Tuning\n",
    "rf_param_grid = {'n_estimators': [100, 200],'max_depth': [None, 10],'min_samples_split': [2, 5]}\n",
    "rf_grid_search = GridSearchCV(RandomForestClassifier(random_state=42,), rf_param_grid, cv=3, n_jobs=-1, verbose=2)\n",
    "rf_grid_search.fit(x_resampled, y_resampled)\n",
    "\n",
    "rf_best_model = rf_grid_search.best_estimator_\n",
    "print(\"Best parameters for Random Forest Classifier:\")\n",
    "print(rf_grid_search.best_params_)"
   ]
  },
  {
   "cell_type": "markdown",
   "id": "94a276a1-ecba-4751-a896-a06ee94a5c3c",
   "metadata": {},
   "source": [
    "\n",
    "<a name=\"model-evaluation\"></a>\n",
    "## 8. Model Evaluation\n",
    "\n",
    "Evaluate each model using the test data and compare their performance.\n",
    "\n",
    "<a name=\"xgboost-evaluation\"></a>\n",
    "### 8.1 XGBoost Classifier Evaluation\n",
    "\n"
   ]
  },
  {
   "cell_type": "code",
   "execution_count": 19,
   "id": "29255881-147c-4f2b-9b6f-d9ce7d4a0f15",
   "metadata": {},
   "outputs": [
    {
     "name": "stdout",
     "output_type": "stream",
     "text": [
      "XGBoost Classifier Evaluation:\n",
      "[[56036   614]\n",
      " [   16    79]]\n",
      "              precision    recall  f1-score   support\n",
      "\n",
      "           0       1.00      0.99      0.99     56650\n",
      "           1       0.11      0.83      0.20        95\n",
      "\n",
      "    accuracy                           0.99     56745\n",
      "   macro avg       0.56      0.91      0.60     56745\n",
      "weighted avg       1.00      0.99      0.99     56745\n",
      "\n"
     ]
    }
   ],
   "source": [
    "# Model Evaluation\n",
    "# XGBoost Classifier Evaluation\n",
    "y_pred_xgb = xgb_best_model.predict(x_test)\n",
    "print(\"XGBoost Classifier Evaluation:\")\n",
    "print(confusion_matrix(y_test, y_pred_xgb))\n",
    "print(classification_report(y_test, y_pred_xgb))"
   ]
  },
  {
   "cell_type": "markdown",
   "id": "f66e86f8-16bd-41a4-87c6-f80c25063251",
   "metadata": {},
   "source": [
    "<a name=\"decision-tree-evaluation\"></a>\n",
    "### 8.2 Decision Tree Classifier Evaluation\n"
   ]
  },
  {
   "cell_type": "code",
   "execution_count": 20,
   "id": "a135dfeb-bc38-4672-9aa3-ec29ed7079d6",
   "metadata": {},
   "outputs": [
    {
     "name": "stdout",
     "output_type": "stream",
     "text": [
      "Decison Tree Classifier Evaluation:\n",
      "[[56626    24]\n",
      " [   95     0]]\n",
      "              precision    recall  f1-score   support\n",
      "\n",
      "           0       1.00      1.00      1.00     56650\n",
      "           1       0.00      0.00      0.00        95\n",
      "\n",
      "    accuracy                           1.00     56745\n",
      "   macro avg       0.50      0.50      0.50     56745\n",
      "weighted avg       1.00      1.00      1.00     56745\n",
      "\n"
     ]
    }
   ],
   "source": [
    "# Model Evaluation\n",
    "# Decison Tree Classifier Evaluation\n",
    "y_pred_dt= dt_best_model.predict(x_test)\n",
    "print(\"Decison Tree Classifier Evaluation:\")\n",
    "print(confusion_matrix(y_test,y_pred_dt))\n",
    "print(classification_report(y_test,y_pred_dt))"
   ]
  },
  {
   "cell_type": "markdown",
   "id": "56e1fda1-0ebf-4112-bd9f-5c42ffa99c7e",
   "metadata": {},
   "source": [
    "<a name=\"random-forest-evaluation\"></a>\n",
    "### 8.3 Random Forest Classifier Evaluation\n"
   ]
  },
  {
   "cell_type": "code",
   "execution_count": 21,
   "id": "020f6527-f7f4-4282-864f-53ac175b9771",
   "metadata": {},
   "outputs": [
    {
     "name": "stdout",
     "output_type": "stream",
     "text": [
      "Random Forest Classifier Evaluation:\n",
      "[[56638    12]\n",
      " [   23    72]]\n",
      "              precision    recall  f1-score   support\n",
      "\n",
      "           0       1.00      1.00      1.00     56650\n",
      "           1       0.86      0.76      0.80        95\n",
      "\n",
      "    accuracy                           1.00     56745\n",
      "   macro avg       0.93      0.88      0.90     56745\n",
      "weighted avg       1.00      1.00      1.00     56745\n",
      "\n"
     ]
    }
   ],
   "source": [
    "# Model Evaluation\n",
    "# Random Forest Classifier Evaluation\n",
    "y_pred_rf = rf_best_model.predict(x_test)\n",
    "print(\"Random Forest Classifier Evaluation:\")\n",
    "print(confusion_matrix(y_test, y_pred_rf))\n",
    "print(classification_report(y_test, y_pred_rf))"
   ]
  },
  {
   "cell_type": "markdown",
   "id": "63eefd93-f275-490b-bfb8-cda84cfebdf4",
   "metadata": {},
   "source": [
    "<a name=\"feature-importance\"></a>\n",
    "## 9. Feature Importance Visualization\n",
    "\n",
    "Plot the feature importance scores from the best-performing model to understand which features contribute most to fraud detection.\n"
   ]
  },
  {
   "cell_type": "code",
   "execution_count": 22,
   "id": "789ac23d-6321-4833-b461-9d8f237e9f79",
   "metadata": {},
   "outputs": [
    {
     "data": {
      "image/png": "[encoded data removed]",
      "text/plain": [
       "<Figure size 1000x600 with 1 Axes>"
      ]
     },
     "metadata": {},
     "output_type": "display_data"
    }
   ],
   "source": [
    "# Step 8: Results and Visualization\n",
    "# Plotting feature importance for Random Forest Classifier\n",
    "feature_importance = pd.Series(rf_best_model.feature_importances_, index=x_test.columns).sort_values(ascending=False)\n",
    "plt.figure(figsize=(10, 6))\n",
    "feature_importance.plot(kind='bar')\n",
    "plt.title('Feature Importance (Random Forest Classifier)')\n",
    "plt.xlabel('Features')\n",
    "plt.ylabel('Importance Score')\n",
    "plt.show()"
   ]
  },
  {
   "cell_type": "markdown",
   "id": "d1bf097e-83f6-4229-801b-277edb21867d",
   "metadata": {},
   "source": [
    "\n",
    "<a name=\"conclusion\"></a>\n",
    "## 10. Conclusion\n",
    "\n",
    "In this project, we:\n",
    "\n",
    "- Loaded and explored the credit card transaction dataset.\n",
    "- Identified and handled duplicate data.\n",
    "- Addressed the class imbalance using SMOTETomek resampling.\n",
    "- Used stratified k-fold cross-validation to maintain class distribution.\n",
    "- Trained and hyperparameter-tuned three classifiers: XGBoost, Decision Tree, and Random Forest.\n",
    "- Evaluated model performance and found that the Random Forest Classifier performed best in detecting fraudulent transactions.\n",
    "- Visualized feature importance to gain insights into the factors influencing fraud detection.\n",
    "\n",
    "---\n",
    "\n",
    "**Note:** The extreme class imbalance and the use of synthetic data require careful model evaluation. Precision, recall, and F1-score are crucial metrics in this context. Future work could involve exploring additional resampling techniques or ensemble methods to further improve model performance."
   ]
  }
 ],
 "metadata": {
  "kernelspec": {
   "display_name": "Python 3",
   "language": "python",
   "name": "python3"
  },
  "language_info": {
   "codemirror_mode": {
    "name": "ipython",
    "version": 3
   },
   "file_extension": ".py",
   "mimetype": "text/x-python",
   "name": "python",
   "nbconvert_exporter": "python",
   "pygments_lexer": "ipython3",
   "version": "3.8.8"
  }
 },
 "nbformat": 4,
 "nbformat_minor": 5
}
