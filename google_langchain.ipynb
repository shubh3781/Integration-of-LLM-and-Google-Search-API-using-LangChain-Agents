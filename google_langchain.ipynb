{
 "cells": [
  {
   "cell_type": "markdown",
   "id": "b8191579-0a28-463c-908e-922121b32603",
   "metadata": {},
   "source": [
    "#### **Project Title:**  \n",
    "**Integration of LLM and Google Search API using LangChain Agents**\n",
    "\n",
    "#### **Introduction:**\n",
    "\n",
    "- **Objective**: This project integrates a Large Language Model (LLM) with the Google Search API to automate data retrieval and provide summarized insights efficiently.\n",
    "- **Motivation**: Instead of manually searching and summarizing data, this solution leverages the strengths of both LLM for knowledge and SerpAPI for real-time information, saving time and ensuring relevant, up-to-date information.\n",
    "- **Key Components**: \n",
    "  - LLM Model (Gemini 1.5 Pro)\n",
    "  - LangChain Agents and Tools\n",
    "  - Google Search API (via SerpAPIWrapper)"
   ]
  },
  {
   "cell_type": "markdown",
   "id": "15192326-3c3a-497e-8819-9367dafa2b33",
   "metadata": {},
   "source": [
    "#### **Project Setup:**\n",
    "\n",
    "1. **Environment Configuration**\n",
    "   - Install required libraries (`langchain`, `dotenv`, `langchain_community`, `serpapi`, etc.).\n",
    "   - Configure environment variables for sensitive keys."
   ]
  },
  {
   "cell_type": "code",
   "execution_count": 1,
   "id": "81a7518b-298e-4957-9e28-49a2cfb87b6e",
   "metadata": {},
   "outputs": [],
   "source": [
    "# Import necessary libraries\n",
    "import os\n",
    "from dotenv import load_dotenv\n",
    "from langchain_google_genai import ChatGoogleGenerativeAI\n",
    "from langchain.agents import AgentType\n",
    "from langchain_community.utilities import SerpAPIWrapper\n",
    "from langchain.agents import load_tools\n",
    "from langchain.agents import initialize_agent\n",
    "\n",
    "# Load environment variables\n",
    "load_dotenv()\n",
    "\n",
    "# Set up API key for Gemini\n",
    "genapi_key = os.getenv(\"gemini_api_key\")"
   ]
  },
  {
   "cell_type": "markdown",
   "id": "cb0ddbb9-d05b-448b-bd97-8acf0b59338b",
   "metadata": {},
   "source": [
    "2. **Initialize the LLM and Agent**\n",
    "   - Load the LLM with Gemini.\n",
    "   - Load the Google Search with SerpAPI\n",
    "   - Set up LangChain agent with Google Search API (SerpAPIWrapper).\n",
    "   - Connect a chain of Model,Agent and Tools to automate process.\n"
   ]
  },
  {
   "cell_type": "code",
   "execution_count": null,
   "id": "ce3cd0e9-4b47-4c34-898f-56e4de6d089e",
   "metadata": {},
   "outputs": [],
   "source": [
    "# Initialize LLM\n",
    "model = ChatGoogleGenerativeAI(api_key=genapi_key,model=\"gemini-1.5-pro\")\n",
    "\n",
    "# Initialize SerpApi\n",
    "search = SerpAPIWrapper()\n",
    "\n",
    "# Initialize LangChain agent\n",
    "myagent = AgentType.CHAT_ZERO_SHOT_REACT_DESCRIPTION\n",
    "mytools = load_tools(['serpapi'])\n",
    "\n",
    "# Combine LLM and search tool in agent\n",
    "google_chain = initialize_agent(agent=myagent, tools=mytools,llm=model,verbose=True)"
   ]
  },
  {
   "cell_type": "markdown",
   "id": "28908eae-fe34-4709-8fd0-549779fc4e00",
   "metadata": {},
   "source": [
    "\n",
    "3. **Example Execution**\n",
    "   - Demonstrate the integration with an example query to retrieve the current date."
   ]
  },
  {
   "cell_type": "code",
   "execution_count": null,
   "id": "5341e71a-9304-4e72-829d-abcd02a019ec",
   "metadata": {},
   "outputs": [],
   "source": [
    "# Example query to check LLM's data cut-off date\n",
    "message = (\"Today date in india in one line\")\n",
    "ai_msg = model.invoke(message)\n",
    "print(ai_msg.content)\n",
    "\n",
    "# Example query to get current date using real-time search\n",
    "google_chain.run(\"Today date in india in one line\")"
   ]
  },
  {
   "cell_type": "markdown",
   "id": "40dfdbad-e823-49c7-9d6f-5d8df469d2ea",
   "metadata": {},
   "source": [
    "#### **Results and Insights**\n",
    "\n",
    "- **Objective Comparison**: \n",
    "  - **LLM Response**: Provides answers based on data available up to its last training cut-off date.\n",
    "  - **Google Search API Response**: Retrieves current, real-time data, addressing the limitations of LLM's static knowledge.\n",
    "\n",
    "- **Example Insight**:\n",
    "  - Using the LLM alone might yield outdated information; however, the integration with SerpAPI allows for updated insights without manually searching or verifying current data.\n",
    "\n",
    "---\n",
    "\n",
    "#### **Conclusion**\n",
    "\n",
    "- **Summary**: This project effectively demonstrates the automation of real-time data retrieval and summary generation through the integration of LLM and Google Search API. This hybrid approach enhances productivity by reducing manual search effort and ensuring relevant, up-to-date insights.\n",
    "- **Future Scope**: Extending the project to include different types of information queries and expanding the scope to other APIs (e.g., for news, trends, etc.) to deepen the range of insights provided."
   ]
  },
  {
   "cell_type": "code",
   "execution_count": null,
   "id": "7610b2c5-65be-4149-b0e3-9d21b987eb48",
   "metadata": {},
   "outputs": [],
   "source": []
  }
 ],
 "metadata": {
  "kernelspec": {
   "display_name": "Python 3",
   "language": "python",
   "name": "python3"
  },
  "language_info": {
   "codemirror_mode": {
    "name": "ipython",
    "version": 3
   },
   "file_extension": ".py",
   "mimetype": "text/x-python",
   "name": "python",
   "nbconvert_exporter": "python",
   "pygments_lexer": "ipython3",
   "version": "3.8.8"
  }
 },
 "nbformat": 4,
 "nbformat_minor": 5
}
